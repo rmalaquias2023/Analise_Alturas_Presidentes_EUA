{
  "nbformat": 4,
  "nbformat_minor": 0,
  "metadata": {
    "colab": {
      "provenance": [],
      "mount_file_id": "1X3z1xlL_A9qRQnwK6QlwGegWnRNJV7rR",
      "authorship_tag": "ABX9TyOGVInMMxwogNKCC5M+2ERp",
      "include_colab_link": true
    },
    "kernelspec": {
      "name": "python3",
      "display_name": "Python 3"
    },
    "language_info": {
      "name": "python"
    }
  },
  "cells": [
    {
      "cell_type": "markdown",
      "metadata": {
        "id": "view-in-github",
        "colab_type": "text"
      },
      "source": [
        "<a href=\"https://colab.research.google.com/github/rmalaquias2023/Analise_Alturas_Presidentes_EUA/blob/main/altura_presidentes.ipynb\" target=\"_parent\"><img src=\"https://colab.research.google.com/assets/colab-badge.svg\" alt=\"Open In Colab\"/></a>"
      ]
    },
    {
      "cell_type": "code",
      "execution_count": 21,
      "metadata": {
        "id": "uG98UzlNLJO8"
      },
      "outputs": [],
      "source": [
        "import pandas as pd\n",
        "import matplotlib.pyplot as plt\n",
        "import seaborn as sns\n",
        "import numpy as np\n",
        "sns.set()"
      ]
    },
    {
      "cell_type": "code",
      "source": [
        "data = pd.read_csv(\"/content/drive/MyDrive/CURSOS/CURSO PYTHON/PROJETOS/ALTURA DOS PRESIDENTES/president_heights.csv\")"
      ],
      "metadata": {
        "id": "vvJGzrz4UL4X"
      },
      "execution_count": 23,
      "outputs": []
    },
    {
      "cell_type": "code",
      "source": [
        "print(data.head())"
      ],
      "metadata": {
        "colab": {
          "base_uri": "https://localhost:8080/"
        },
        "id": "EesddAM6UL94",
        "outputId": "6953f2e5-2e43-4b6e-e7e8-7ce51c6730cd"
      },
      "execution_count": 12,
      "outputs": [
        {
          "output_type": "stream",
          "name": "stdout",
          "text": [
            "   order               name  height(cm)\n",
            "0      1  George Washington         189\n",
            "1      2         John Adams         170\n",
            "2      3   Thomas Jefferson         189\n",
            "3      4      James Madison         163\n",
            "4      5       James Monroe         183\n"
          ]
        }
      ]
    },
    {
      "cell_type": "code",
      "source": [
        "height = np.array(data[\"height(cm)\"])\n",
        "print(height)"
      ],
      "metadata": {
        "colab": {
          "base_uri": "https://localhost:8080/"
        },
        "id": "DEjF49-wUYwX",
        "outputId": "505625fb-5c51-4998-da93-8eb13305eefc"
      },
      "execution_count": 26,
      "outputs": [
        {
          "output_type": "stream",
          "name": "stdout",
          "text": [
            "[189 170 189 163 183 171 185 168 173 183 173 173 175 178 183 193 178 173\n",
            " 174 183 183 168 170 178 182 180 183 178 182 188 175 179 183 193 182 183\n",
            " 177 185 188 188 182 185]\n"
          ]
        }
      ]
    },
    {
      "cell_type": "code",
      "source": [
        "print ('Média das alturas: ', height.mean())\n",
        "print ('Desvio Padrão: ', height.std())\n",
        "print ('Altura minima: ', height.min())\n",
        "print ('Altura max: ', height.max())"
      ],
      "metadata": {
        "colab": {
          "base_uri": "https://localhost:8080/"
        },
        "id": "ZuHVPGqJV5Dm",
        "outputId": "d462e4b9-1969-41b3-bc59-be076f284e01"
      },
      "execution_count": 27,
      "outputs": [
        {
          "output_type": "stream",
          "name": "stdout",
          "text": [
            "Média das alturas:  179.73809523809524\n",
            "Desvio Padrão:  6.931843442745892\n",
            "Altura minima:  163\n",
            "Altura max:  193\n"
          ]
        }
      ]
    },
    {
      "cell_type": "code",
      "source": [
        "print(\"25th percentile =\", np.percentile(height, 25))\n",
        "print(\"Median =\", np.median(height))\n",
        "print(\"75th percentile =\", np.percentile(height, 75))"
      ],
      "metadata": {
        "colab": {
          "base_uri": "https://localhost:8080/"
        },
        "id": "343n4gLtXy5E",
        "outputId": "122ca6cb-1fe0-4093-8410-47b9cc7dab5f"
      },
      "execution_count": 28,
      "outputs": [
        {
          "output_type": "stream",
          "name": "stdout",
          "text": [
            "25th percentile = 174.25\n",
            "Median = 182.0\n",
            "75th percentile = 183.0\n"
          ]
        }
      ]
    },
    {
      "cell_type": "code",
      "source": [
        "plt.hist (height)\n",
        "plt.title('Distribuição das alturas dos presidentes dos EUA')\n",
        "plt.xlabel('height(cm)')\n",
        "plt.ylabel('Number')\n",
        "plt.show()"
      ],
      "metadata": {
        "colab": {
          "base_uri": "https://localhost:8080/",
          "height": 480
        },
        "id": "kolbkMF9AdLQ",
        "outputId": "fdfa56e7-07b5-4039-cd01-cbd29316c049"
      },
      "execution_count": 29,
      "outputs": [
        {
          "output_type": "display_data",
          "data": {
            "text/plain": [
              "<Figure size 640x480 with 1 Axes>"
            ],
            "image/png": "[encoded data removed]"
          },
          "metadata": {}
        }
      ]
    },
    {
      "cell_type": "code",
      "source": [],
      "metadata": {
        "id": "32U7y0fQA_oI"
      },
      "execution_count": null,
      "outputs": []
    }
  ]
}